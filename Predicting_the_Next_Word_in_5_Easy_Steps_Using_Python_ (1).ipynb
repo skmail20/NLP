{
  "nbformat": 4,
  "nbformat_minor": 0,
  "metadata": {
    "colab": {
      "provenance": []
    },
    "kernelspec": {
      "name": "python3",
      "display_name": "Python 3"
    },
    "language_info": {
      "name": "python"
    }
  },
  "cells": [
    {
      "cell_type": "code",
      "execution_count": 6,
      "metadata": {
        "id": "xg7h_CYlY_pj",
        "colab": {
          "base_uri": "https://localhost:8080/"
        },
        "outputId": "82bbf0d3-e1bb-4101-fc85-651e0d9026ff"
      },
      "outputs": [
        {
          "output_type": "stream",
          "name": "stderr",
          "text": [
            "[nltk_data] Downloading package punkt to /root/nltk_data...\n",
            "[nltk_data]   Package punkt is already up-to-date!\n"
          ]
        },
        {
          "output_type": "stream",
          "name": "stdout",
          "text": [
            "Enter a prefix for next-word prediction: the\n",
            "Next word prediction: treasure\n"
          ]
        }
      ],
      "source": [
        "# Import Necessary Libraries\n",
        "\n",
        "import nltk\n",
        "from nltk import ngrams\n",
        "from collections import defaultdict\n",
        "import random\n",
        "# Sample Text Data\n",
        "text = \"\"\"\n",
        "Once upon a luminous, starry night in the quaint, enigmatic town of Serendipity,\n",
        "a curious young explorer named Amelia embarked on an extraordinary adventure.\n",
        "With her trusty magnifying glass in hand and an indomitable spirit, she embarked on a quest to discover the elusive Elysian treasure hidden deep within the labyrinthine forest.\n",
        "As she ventured through the verdant woods, Amelia encountered an eccentric, talking squirrel named Percival, who spoke in riddles and guided her toward the treasure's whereabouts.\n",
        "The forest was resplendent with bioluminescent flora, illuminating her path with a kaleidoscope of colors.\n",
        "Amelia soon reached a precipice overlooking an awe-inspiring, cerulean waterfall, its cascading waters echoing a melodious serenade.\n",
        "Beside the waterfall stood a colossal, moss-covered stone with cryptic inscriptions.\n",
        "With Percival's guidance, she deciphered the ancient runes and uncovered the entrance to the treasure trove.\n",
        "Inside, she discovered an opulent chest adorned with intricate, golden filigree.\n",
        "Upon opening it, a symphony of shimmering jewels, radiant gemstones, and glistening artifacts greeted her with an ethereal glow.\n",
        "The Elysian treasure was hers, a testament to her dauntless courage and insatiable curiosity.\n",
        "Amelia's return to Serendipity was celebrated with jubilant revelry, and her remarkable journey became a legend, inspiring others to embark on their own adventures in the wondrous realm of imagination and discovery.\n",
        "\"\"\"\n",
        "import nltk\n",
        "nltk.download('punkt')\n",
        "# Tokenize the text into words\n",
        "words = nltk.word_tokenize(text)\n",
        "\n",
        "# Preprocess the words (convert to lowercase, remove punctuation)\n",
        "words = [word.lower() for word in words if word.isalnum()]\n",
        "\n",
        "words\n",
        "# Define the order of the N-gram model (N=2 for bigrams)\n",
        "N = 2\n",
        "\n",
        "# Create N-grams from the tokenized words\n",
        "ngrams_list = list(ngrams(words, N))\n",
        "\n",
        "# Create a defaultdict to store N-grams and their frequency\n",
        "ngram_freq = defaultdict(int)\n",
        "for ngram in ngrams_list:\n",
        "    ngram_freq[ngram] += 1\n",
        "# Define Function\n",
        "def predict_next_word(prefix):\n",
        "    # Filter N-grams that start with the given prefix\n",
        "    matching_ngrams = [(ngram, freq) for ngram, freq in ngram_freq.items() if ngram[:-1] == prefix]\n",
        "\n",
        "    if not matching_ngrams:\n",
        "        return \"No prediction available.\"\n",
        "\n",
        "    # Sort N-grams by frequency in descending order\n",
        "    sorted_ngrams = sorted(matching_ngrams, key=lambda x: x[1], reverse=True)\n",
        "\n",
        "    # Select the N-gram with the highest frequency as the prediction\n",
        "    prediction = sorted_ngrams[0][0][-1]\n",
        "\n",
        "    return prediction\n",
        "  # You can use this code snippet to interactively test the model with user input\n",
        "user_input = input(\"Enter a prefix for next-word prediction: \").lower().split()\n",
        "if len(user_input) != N - 1:\n",
        "    print(\"Please enter a valid prefix.\")\n",
        "else:\n",
        "    prefix = tuple(user_input)\n",
        "    prediction = predict_next_word(prefix)\n",
        "    print(f\"Next word prediction: {prediction}\")"
      ]
    }
  ]
}